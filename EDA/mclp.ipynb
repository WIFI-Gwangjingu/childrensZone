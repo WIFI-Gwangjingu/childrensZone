{
  "nbformat": 4,
  "nbformat_minor": 0,
  "metadata": {
    "colab": {
      "provenance": []
    },
    "kernelspec": {
      "name": "python3",
      "display_name": "Python 3"
    },
    "language_info": {
      "name": "python"
    }
  },
  "cells": [
    {
      "cell_type": "markdown",
      "source": [
        "**pip 및 import**\n",
        "\n",
        "⬇️⬇️⬇️⬇️⬇️⬇️⬇️⬇️⬇️⬇️⬇️⬇️⬇️⬇️⬇️⬇️⬇️⬇️⬇️⬇️⬇️⬇️⬇️"
      ],
      "metadata": {
        "id": "7_8BHEGMidDP"
      }
    },
    {
      "cell_type": "code",
      "source": [
        "!pip install gurobipy"
      ],
      "metadata": {
        "colab": {
          "base_uri": "https://localhost:8080/"
        },
        "id": "bz_mi-oI7xnP",
        "outputId": "2bfbf0e8-aec7-4a94-f25c-7dec182c312e"
      },
      "execution_count": 6,
      "outputs": [
        {
          "output_type": "stream",
          "name": "stdout",
          "text": [
            "Looking in indexes: https://pypi.org/simple, https://us-python.pkg.dev/colab-wheels/public/simple/\n",
            "Requirement already satisfied: gurobipy in /usr/local/lib/python3.9/dist-packages (10.0.1)\n"
          ]
        }
      ]
    },
    {
      "cell_type": "code",
      "execution_count": 7,
      "metadata": {
        "id": "CE7UixfLlrk5"
      },
      "outputs": [],
      "source": [
        "import pandas\n",
        "from google.colab import files\n",
        "\n",
        "import numpy as np\n",
        "from scipy.spatial import distance_matrix\n",
        "from gurobipy import *\n",
        "from scipy.spatial import ConvexHull\n",
        "from shapely.geometry import Polygon, Point\n",
        "from numpy import random"
      ]
    },
    {
      "cell_type": "markdown",
      "source": [
        "**\"서울시대로변횡단보도위치정보.csv\" LINK와 NODE를 전처리**\n",
        "\n",
        "⬇️⬇️⬇️⬇️⬇️⬇️⬇️⬇️⬇️⬇️⬇️⬇️⬇️⬇️⬇️⬇️⬇️⬇️⬇️⬇️⬇️⬇️⬇️"
      ],
      "metadata": {
        "id": "jKMkCDB9iEOx"
      }
    },
    {
      "cell_type": "code",
      "source": [
        "#f = files.upload()"
      ],
      "metadata": {
        "id": "mC4nb39z8ac_"
      },
      "execution_count": 4,
      "outputs": []
    },
    {
      "cell_type": "code",
      "source": [
        "data = pandas.read_csv(\"서울시대로변횡단보도위치정보.csv\", encoding=\"euc-kr\")\n",
        "\n",
        "data = data.loc[:, [\"노드링크 유형\", \"노드 WKT\", \"링크 WKT\", \"시군구명\", \"읍면동명\"]]\n",
        "data[\"좌표\"] = 0\n",
        "\n",
        "for i, d in enumerate(data[\"노드 WKT\"]):\n",
        "  if(type(d) == str):\n",
        "    data[\"좌표\"][i] = d[6:-1]\n",
        "  \n",
        "for i, d in enumerate(data[\"링크 WKT\"]):\n",
        "  if(type(d) == str):\n",
        "    data[\"좌표\"][i] = d[11:-1]\n",
        "\n",
        "data = data.drop([\"노드 WKT\", \"링크 WKT\"], axis = 1)"
      ],
      "metadata": {
        "colab": {
          "base_uri": "https://localhost:8080/"
        },
        "id": "u_me4fTrIaqL",
        "outputId": "b8f2620a-4fe2-40ed-a070-959830f838e7"
      },
      "execution_count": 5,
      "outputs": [
        {
          "output_type": "stream",
          "name": "stderr",
          "text": [
            "<ipython-input-5-e1393d7db171>:8: SettingWithCopyWarning: \n",
            "A value is trying to be set on a copy of a slice from a DataFrame\n",
            "\n",
            "See the caveats in the documentation: https://pandas.pydata.org/pandas-docs/stable/user_guide/indexing.html#returning-a-view-versus-a-copy\n",
            "  data[\"좌표\"][i] = d[6:-1]\n"
          ]
        }
      ]
    },
    {
      "cell_type": "code",
      "source": [
        "data.to_csv(\"result.csv\", encoding=\"euc-kr\")\n",
        "#files.download(\"result.csv\")\n",
        "\n",
        "tmp = []\n",
        "\n",
        "for i, d in enumerate(data[\"좌표\"]):\n",
        "  tmp2 = []\n",
        "  tmp2.append(float(d.split()[0]))\n",
        "  tmp2.append(float(d.split()[1].split(\",\")[0]))\n",
        "  tmp.append(tmp2)\n",
        "\n",
        "real = np.array(tmp)"
      ],
      "metadata": {
        "id": "yV_nxuN0IV_m",
        "colab": {
          "base_uri": "https://localhost:8080/",
          "height": 235
        },
        "outputId": "ea90da4c-ae43-48e1-c53e-db21dc625c24"
      },
      "execution_count": 5,
      "outputs": [
        {
          "output_type": "error",
          "ename": "NameError",
          "evalue": "ignored",
          "traceback": [
            "\u001b[0;31m---------------------------------------------------------------------------\u001b[0m",
            "\u001b[0;31mNameError\u001b[0m                                 Traceback (most recent call last)",
            "\u001b[0;32m<ipython-input-5-7a2fabf8eb26>\u001b[0m in \u001b[0;36m<cell line: 1>\u001b[0;34m()\u001b[0m\n\u001b[0;32m----> 1\u001b[0;31m \u001b[0mdata\u001b[0m\u001b[0;34m.\u001b[0m\u001b[0mto_csv\u001b[0m\u001b[0;34m(\u001b[0m\u001b[0;34m\"result.csv\"\u001b[0m\u001b[0;34m,\u001b[0m \u001b[0mencoding\u001b[0m\u001b[0;34m=\u001b[0m\u001b[0;34m\"euc-kr\"\u001b[0m\u001b[0;34m)\u001b[0m\u001b[0;34m\u001b[0m\u001b[0;34m\u001b[0m\u001b[0m\n\u001b[0m\u001b[1;32m      2\u001b[0m \u001b[0;31m#files.download(\"result.csv\")\u001b[0m\u001b[0;34m\u001b[0m\u001b[0;34m\u001b[0m\u001b[0m\n\u001b[1;32m      3\u001b[0m \u001b[0;34m\u001b[0m\u001b[0m\n\u001b[1;32m      4\u001b[0m \u001b[0mtmp\u001b[0m \u001b[0;34m=\u001b[0m \u001b[0;34m[\u001b[0m\u001b[0;34m]\u001b[0m\u001b[0;34m\u001b[0m\u001b[0;34m\u001b[0m\u001b[0m\n\u001b[1;32m      5\u001b[0m \u001b[0mtmp3\u001b[0m \u001b[0;34m=\u001b[0m \u001b[0;34m[\u001b[0m\u001b[0;34m]\u001b[0m\u001b[0;34m\u001b[0m\u001b[0;34m\u001b[0m\u001b[0m\n",
            "\u001b[0;31mNameError\u001b[0m: name 'data' is not defined"
          ]
        }
      ]
    },
    {
      "cell_type": "markdown",
      "source": [
        "**MCLP 사용**\n",
        "\n",
        "⬇️⬇️⬇️⬇️⬇️⬇️⬇️⬇️⬇️⬇️⬇️⬇️⬇️⬇️⬇️⬇️⬇️⬇️⬇️"
      ],
      "metadata": {
        "id": "DrZif595iBCW"
      }
    },
    {
      "cell_type": "code",
      "source": [
        "def generate_candidate_sites(points,M=100):\n",
        "    '''\n",
        "    Generate M candidate sites with the convex hull of a point set\n",
        "    Input:\n",
        "        points: a Numpy array with shape of (N,2)\n",
        "        M: the number of candidate sites to generate\n",
        "    Return:\n",
        "        sites: a Numpy array with shape of (M,2)\n",
        "    '''\n",
        "    hull = ConvexHull(points)\n",
        "    polygon_points = points[hull.vertices]\n",
        "    poly = Polygon(polygon_points)\n",
        "    min_x, min_y, max_x, max_y = poly.bounds\n",
        "    sites = []\n",
        "    while len(sites) < M:\n",
        "        random_point = Point([random.uniform(min_x, max_x),\n",
        "                             random.uniform(min_y, max_y)])\n",
        "        if (random_point.within(poly)):\n",
        "            sites.append(random_point)\n",
        "    return np.array([(p.x,p.y) for p in sites])\n",
        "\n",
        "def mclp(points,K,radius,M):\n",
        "    \"\"\"\n",
        "    Solve maximum covering location problem\n",
        "    Input:\n",
        "        points: input points, Numpy array in shape of [N,2]\n",
        "        K: the number of sites to select\n",
        "        radius: the radius of circle\n",
        "        M: the number of candidate sites, which will randomly generated inside\n",
        "        the ConvexHull wrapped by the polygon\n",
        "    Return:\n",
        "        opt_sites: locations K optimal sites, Numpy array in shape of [K,2]\n",
        "        f: the optimal value of the objective function\n",
        "    \"\"\"\n",
        "    print('----- Configurations -----')\n",
        "    print('  Number of points %g' % points.shape[0])\n",
        "    print('  K %g' % K)\n",
        "    print('  Radius %g' % radius)\n",
        "    print('  M %g' % M)\n",
        "    import time\n",
        "    start = time.time()\n",
        "    sites = generate_candidate_sites(points,M)\n",
        "    J = sites.shape[0]\n",
        "    I = points.shape[0]\n",
        "    D = distance_matrix(points,sites)\n",
        "    mask1 = D<=radius\n",
        "    D[mask1]=1\n",
        "    D[~mask1]=0\n",
        "    # Build model\n",
        "    m = Model()\n",
        "    # Add variables\n",
        "    x = {}\n",
        "    y = {}\n",
        "    for i in range(I):\n",
        "      y[i] = m.addVar(vtype=GRB.BINARY, name=\"y%d\" % i)\n",
        "    for j in range(J):\n",
        "      x[j] = m.addVar(vtype=GRB.BINARY, name=\"x%d\" % j)\n",
        "\n",
        "    m.update()\n",
        "    # Add constraints\n",
        "    m.addConstr(quicksum(x[j] for j in range(J)) == K)\n",
        "\n",
        "    for i in range(I):\n",
        "        m.addConstr(quicksum(x[j] for j in np.where(D[i]==1)[0]) >= y[i])\n",
        "\n",
        "    m.setObjective(quicksum(y[i]for i in range(I)),GRB.MAXIMIZE)\n",
        "    m.setParam('OutputFlag', 0)\n",
        "    m.optimize()\n",
        "    end = time.time()\n",
        "    print('----- Output -----')\n",
        "    print('  Running time : %s seconds' % float(end-start))\n",
        "    print('  Optimal coverage points: %g' % m.objVal)\n",
        "    \n",
        "    solution = []\n",
        "    if m.status == GRB.Status.OPTIMAL:\n",
        "        for v in m.getVars():\n",
        "            # print v.varName,v.x\n",
        "            if v.x==1 and v.varName[0]==\"x\":\n",
        "               solution.append(int(v.varName[1:]))\n",
        "    opt_sites = sites[solution]\n",
        "    return opt_sites,m.objVal\n",
        "\n",
        "def plot_input(points):\n",
        "    '''\n",
        "    Plot the result\n",
        "    Input:\n",
        "        points: input points, Numpy array in shape of [N,2]\n",
        "        opt_sites: locations K optimal sites, Numpy array in shape of [K,2]\n",
        "        radius: the radius of circle\n",
        "    '''\n",
        "    from matplotlib import pyplot as plt\n",
        "    fig = plt.figure(figsize=(8,8))\n",
        "    plt.scatter(points[:,0],points[:,1],c='C0')\n",
        "    ax = plt.gca()\n",
        "    ax.axis('equal')\n",
        "    ax.tick_params(axis='both',left=False, top=False, right=False,\n",
        "                       bottom=False, labelleft=False, labeltop=False,\n",
        "                       labelright=False, labelbottom=False)\n",
        "\n",
        "def plot_result(points,opt_sites,radius):\n",
        "    '''\n",
        "    Plot the result\n",
        "    Input:\n",
        "        points: input points, Numpy array in shape of [N,2]\n",
        "        opt_sites: locations K optimal sites, Numpy array in shape of [K,2]\n",
        "        radius: the radius of circle\n",
        "    '''\n",
        "    from matplotlib import pyplot as plt\n",
        "    fig = plt.figure(figsize=(8,8))\n",
        "    plt.scatter(points[:,0],points[:,1],c='C0')\n",
        "    ax = plt.gca()\n",
        "    plt.scatter(opt_sites[:,0],opt_sites[:,1],c='C1',marker='+')\n",
        "    for site in opt_sites:\n",
        "        circle = plt.Circle(site, radius, color='C1',fill=False,lw=2)\n",
        "        ax.add_artist(circle)\n",
        "    ax.axis('equal')\n",
        "    ax.tick_params(axis='both',left=False, top=False, right=False,\n",
        "                       bottom=False, labelleft=False, labeltop=False,\n",
        "                       labelright=False, labelbottom=False)"
      ],
      "metadata": {
        "id": "e3RadbpX5vEy"
      },
      "execution_count": 9,
      "outputs": []
    },
    {
      "cell_type": "code",
      "source": [
        "# Plot input data\n",
        "plot_input(real)\n",
        "\n",
        "# Number of sites to select\n",
        "K = 20\n",
        "\n",
        "# Service radius of each site\n",
        "radius = 0.2\n",
        "\n",
        "# Candidate site size (random sites generated)\n",
        "M = 100\n",
        "\n",
        "# Run mclp opt_sites is the location of optimal sites and f is the points covered\n",
        "opt_sites,f = mclp(real,K,radius,M)\n",
        "\n",
        "# Plot the result\n",
        "plot_result(real,opt_sites,radius)"
      ],
      "metadata": {
        "colab": {
          "base_uri": "https://localhost:8080/",
          "height": 235
        },
        "id": "mWVSXo-T-jO0",
        "outputId": "5d9b77e4-e753-43ef-85c3-29fb1dc012e9"
      },
      "execution_count": 4,
      "outputs": [
        {
          "output_type": "error",
          "ename": "NameError",
          "evalue": "ignored",
          "traceback": [
            "\u001b[0;31m---------------------------------------------------------------------------\u001b[0m",
            "\u001b[0;31mNameError\u001b[0m                                 Traceback (most recent call last)",
            "\u001b[0;32m<ipython-input-4-913d2dee2950>\u001b[0m in \u001b[0;36m<cell line: 2>\u001b[0;34m()\u001b[0m\n\u001b[1;32m      1\u001b[0m \u001b[0;31m# Plot input data\u001b[0m\u001b[0;34m\u001b[0m\u001b[0;34m\u001b[0m\u001b[0m\n\u001b[0;32m----> 2\u001b[0;31m \u001b[0mplot_input\u001b[0m\u001b[0;34m(\u001b[0m\u001b[0mreal\u001b[0m\u001b[0;34m)\u001b[0m\u001b[0;34m\u001b[0m\u001b[0;34m\u001b[0m\u001b[0m\n\u001b[0m\u001b[1;32m      3\u001b[0m \u001b[0;34m\u001b[0m\u001b[0m\n\u001b[1;32m      4\u001b[0m \u001b[0;31m# Number of sites to select\u001b[0m\u001b[0;34m\u001b[0m\u001b[0;34m\u001b[0m\u001b[0m\n\u001b[1;32m      5\u001b[0m \u001b[0mK\u001b[0m \u001b[0;34m=\u001b[0m \u001b[0;36m20\u001b[0m\u001b[0;34m\u001b[0m\u001b[0;34m\u001b[0m\u001b[0m\n",
            "\u001b[0;31mNameError\u001b[0m: name 'real' is not defined"
          ]
        }
      ]
    },
    {
      "cell_type": "code",
      "source": [
        "f = files.upload()"
      ],
      "metadata": {
        "colab": {
          "base_uri": "https://localhost:8080/",
          "height": 73
        },
        "id": "RaKDVMDhs7ll",
        "outputId": "82047b45-5b8e-4788-c2ba-4487c6b174d2"
      },
      "execution_count": 8,
      "outputs": [
        {
          "output_type": "display_data",
          "data": {
            "text/plain": [
              "<IPython.core.display.HTML object>"
            ],
            "text/html": [
              "\n",
              "     <input type=\"file\" id=\"files-3b4c2ecb-ac22-4491-8d0d-825ff5f5725a\" name=\"files[]\" multiple disabled\n",
              "        style=\"border:none\" />\n",
              "     <output id=\"result-3b4c2ecb-ac22-4491-8d0d-825ff5f5725a\">\n",
              "      Upload widget is only available when the cell has been executed in the\n",
              "      current browser session. Please rerun this cell to enable.\n",
              "      </output>\n",
              "      <script>// Copyright 2017 Google LLC\n",
              "//\n",
              "// Licensed under the Apache License, Version 2.0 (the \"License\");\n",
              "// you may not use this file except in compliance with the License.\n",
              "// You may obtain a copy of the License at\n",
              "//\n",
              "//      http://www.apache.org/licenses/LICENSE-2.0\n",
              "//\n",
              "// Unless required by applicable law or agreed to in writing, software\n",
              "// distributed under the License is distributed on an \"AS IS\" BASIS,\n",
              "// WITHOUT WARRANTIES OR CONDITIONS OF ANY KIND, either express or implied.\n",
              "// See the License for the specific language governing permissions and\n",
              "// limitations under the License.\n",
              "\n",
              "/**\n",
              " * @fileoverview Helpers for google.colab Python module.\n",
              " */\n",
              "(function(scope) {\n",
              "function span(text, styleAttributes = {}) {\n",
              "  const element = document.createElement('span');\n",
              "  element.textContent = text;\n",
              "  for (const key of Object.keys(styleAttributes)) {\n",
              "    element.style[key] = styleAttributes[key];\n",
              "  }\n",
              "  return element;\n",
              "}\n",
              "\n",
              "// Max number of bytes which will be uploaded at a time.\n",
              "const MAX_PAYLOAD_SIZE = 100 * 1024;\n",
              "\n",
              "function _uploadFiles(inputId, outputId) {\n",
              "  const steps = uploadFilesStep(inputId, outputId);\n",
              "  const outputElement = document.getElementById(outputId);\n",
              "  // Cache steps on the outputElement to make it available for the next call\n",
              "  // to uploadFilesContinue from Python.\n",
              "  outputElement.steps = steps;\n",
              "\n",
              "  return _uploadFilesContinue(outputId);\n",
              "}\n",
              "\n",
              "// This is roughly an async generator (not supported in the browser yet),\n",
              "// where there are multiple asynchronous steps and the Python side is going\n",
              "// to poll for completion of each step.\n",
              "// This uses a Promise to block the python side on completion of each step,\n",
              "// then passes the result of the previous step as the input to the next step.\n",
              "function _uploadFilesContinue(outputId) {\n",
              "  const outputElement = document.getElementById(outputId);\n",
              "  const steps = outputElement.steps;\n",
              "\n",
              "  const next = steps.next(outputElement.lastPromiseValue);\n",
              "  return Promise.resolve(next.value.promise).then((value) => {\n",
              "    // Cache the last promise value to make it available to the next\n",
              "    // step of the generator.\n",
              "    outputElement.lastPromiseValue = value;\n",
              "    return next.value.response;\n",
              "  });\n",
              "}\n",
              "\n",
              "/**\n",
              " * Generator function which is called between each async step of the upload\n",
              " * process.\n",
              " * @param {string} inputId Element ID of the input file picker element.\n",
              " * @param {string} outputId Element ID of the output display.\n",
              " * @return {!Iterable<!Object>} Iterable of next steps.\n",
              " */\n",
              "function* uploadFilesStep(inputId, outputId) {\n",
              "  const inputElement = document.getElementById(inputId);\n",
              "  inputElement.disabled = false;\n",
              "\n",
              "  const outputElement = document.getElementById(outputId);\n",
              "  outputElement.innerHTML = '';\n",
              "\n",
              "  const pickedPromise = new Promise((resolve) => {\n",
              "    inputElement.addEventListener('change', (e) => {\n",
              "      resolve(e.target.files);\n",
              "    });\n",
              "  });\n",
              "\n",
              "  const cancel = document.createElement('button');\n",
              "  inputElement.parentElement.appendChild(cancel);\n",
              "  cancel.textContent = 'Cancel upload';\n",
              "  const cancelPromise = new Promise((resolve) => {\n",
              "    cancel.onclick = () => {\n",
              "      resolve(null);\n",
              "    };\n",
              "  });\n",
              "\n",
              "  // Wait for the user to pick the files.\n",
              "  const files = yield {\n",
              "    promise: Promise.race([pickedPromise, cancelPromise]),\n",
              "    response: {\n",
              "      action: 'starting',\n",
              "    }\n",
              "  };\n",
              "\n",
              "  cancel.remove();\n",
              "\n",
              "  // Disable the input element since further picks are not allowed.\n",
              "  inputElement.disabled = true;\n",
              "\n",
              "  if (!files) {\n",
              "    return {\n",
              "      response: {\n",
              "        action: 'complete',\n",
              "      }\n",
              "    };\n",
              "  }\n",
              "\n",
              "  for (const file of files) {\n",
              "    const li = document.createElement('li');\n",
              "    li.append(span(file.name, {fontWeight: 'bold'}));\n",
              "    li.append(span(\n",
              "        `(${file.type || 'n/a'}) - ${file.size} bytes, ` +\n",
              "        `last modified: ${\n",
              "            file.lastModifiedDate ? file.lastModifiedDate.toLocaleDateString() :\n",
              "                                    'n/a'} - `));\n",
              "    const percent = span('0% done');\n",
              "    li.appendChild(percent);\n",
              "\n",
              "    outputElement.appendChild(li);\n",
              "\n",
              "    const fileDataPromise = new Promise((resolve) => {\n",
              "      const reader = new FileReader();\n",
              "      reader.onload = (e) => {\n",
              "        resolve(e.target.result);\n",
              "      };\n",
              "      reader.readAsArrayBuffer(file);\n",
              "    });\n",
              "    // Wait for the data to be ready.\n",
              "    let fileData = yield {\n",
              "      promise: fileDataPromise,\n",
              "      response: {\n",
              "        action: 'continue',\n",
              "      }\n",
              "    };\n",
              "\n",
              "    // Use a chunked sending to avoid message size limits. See b/62115660.\n",
              "    let position = 0;\n",
              "    do {\n",
              "      const length = Math.min(fileData.byteLength - position, MAX_PAYLOAD_SIZE);\n",
              "      const chunk = new Uint8Array(fileData, position, length);\n",
              "      position += length;\n",
              "\n",
              "      const base64 = btoa(String.fromCharCode.apply(null, chunk));\n",
              "      yield {\n",
              "        response: {\n",
              "          action: 'append',\n",
              "          file: file.name,\n",
              "          data: base64,\n",
              "        },\n",
              "      };\n",
              "\n",
              "      let percentDone = fileData.byteLength === 0 ?\n",
              "          100 :\n",
              "          Math.round((position / fileData.byteLength) * 100);\n",
              "      percent.textContent = `${percentDone}% done`;\n",
              "\n",
              "    } while (position < fileData.byteLength);\n",
              "  }\n",
              "\n",
              "  // All done.\n",
              "  yield {\n",
              "    response: {\n",
              "      action: 'complete',\n",
              "    }\n",
              "  };\n",
              "}\n",
              "\n",
              "scope.google = scope.google || {};\n",
              "scope.google.colab = scope.google.colab || {};\n",
              "scope.google.colab._files = {\n",
              "  _uploadFiles,\n",
              "  _uploadFilesContinue,\n",
              "};\n",
              "})(self);\n",
              "</script> "
            ]
          },
          "metadata": {}
        },
        {
          "output_type": "stream",
          "name": "stdout",
          "text": [
            "Saving 광진구 횡단보도 좌표 중앙값 처리.csv to 광진구 횡단보도 좌표 중앙값 처리.csv\n"
          ]
        }
      ]
    },
    {
      "cell_type": "code",
      "source": [
        "data = pandas.read_csv(\"광진구 횡단보도 좌표 중앙값 처리.csv\", encoding=\"euc-kr\")\n",
        "\n",
        "tmp = []\n",
        "\n",
        "for i in range(1010):\n",
        "  tmp2 = []\n",
        "  tmp2.append(data[\"경도\"][i])\n",
        "  tmp2.append(data[\"위도\"][i])\n",
        "  tmp.append(tmp2)\n",
        "  \n",
        "\n",
        "real = np.array(tmp)"
      ],
      "metadata": {
        "id": "YIDGEGYys3s3"
      },
      "execution_count": 32,
      "outputs": []
    },
    {
      "cell_type": "code",
      "source": [
        "# Number of sites to select\n",
        "K = 20\n",
        "\n",
        "# Service radius of each site\n",
        "radius = 0.2\n",
        "\n",
        "# Candidate site size (random sites generated)\n",
        "M = 100\n",
        "\n",
        "# Run mclp opt_sites is the location of optimal sites and f is the points covered\n",
        "opt_sites,f = mclp(real,K,radius,M)\n",
        "\n",
        "# Plot the result\n",
        "plot_result(real,opt_sites,radius)"
      ],
      "metadata": {
        "colab": {
          "base_uri": "https://localhost:8080/",
          "height": 792
        },
        "id": "yD0pJwMwxSxz",
        "outputId": "4443c5f8-cb2f-4189-ff30-172d63cf8fa5"
      },
      "execution_count": 33,
      "outputs": [
        {
          "output_type": "stream",
          "name": "stdout",
          "text": [
            "----- Configurations -----\n",
            "  Number of points 1010\n",
            "  K 20\n",
            "  Radius 0.2\n",
            "  M 100\n",
            "----- Output -----\n",
            "  Running time : 0.16037225723266602 seconds\n",
            "  Optimal coverage points: 1010\n"
          ]
        },
        {
          "output_type": "display_data",
          "data": {
            "text/plain": [
              "<Figure size 800x800 with 1 Axes>"
            ],
            "image/png": "[encoded data removed]"
          },
          "metadata": {}
        }
      ]
    }
  ]
}