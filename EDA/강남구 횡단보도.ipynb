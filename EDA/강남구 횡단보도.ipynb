{
 "cells": [
  {
   "cell_type": "code",
   "execution_count": 2,
   "id": "298b441e",
   "metadata": {},
   "outputs": [
    {
     "data": {
      "text/html": [
       "<div>\n",
       "<style scoped>\n",
       "    .dataframe tbody tr th:only-of-type {\n",
       "        vertical-align: middle;\n",
       "    }\n",
       "\n",
       "    .dataframe tbody tr th {\n",
       "        vertical-align: top;\n",
       "    }\n",
       "\n",
       "    .dataframe thead th {\n",
       "        text-align: right;\n",
       "    }\n",
       "</style>\n",
       "<table border=\"1\" class=\"dataframe\">\n",
       "  <thead>\n",
       "    <tr style=\"text-align: right;\">\n",
       "      <th></th>\n",
       "      <th>노드 WKT</th>\n",
       "      <th>노드 ID</th>\n",
       "      <th>노드 유형 코드</th>\n",
       "      <th>링크 WKT</th>\n",
       "      <th>링크 ID</th>\n",
       "      <th>링크 유형 코드</th>\n",
       "      <th>시작노드 ID</th>\n",
       "      <th>종료노드 ID</th>\n",
       "      <th>링크 길이</th>\n",
       "      <th>시군구코드</th>\n",
       "      <th>시군구명</th>\n",
       "      <th>읍면동코드</th>\n",
       "      <th>읍면동명</th>\n",
       "    </tr>\n",
       "    <tr>\n",
       "      <th>노드링크 유형</th>\n",
       "      <th></th>\n",
       "      <th></th>\n",
       "      <th></th>\n",
       "      <th></th>\n",
       "      <th></th>\n",
       "      <th></th>\n",
       "      <th></th>\n",
       "      <th></th>\n",
       "      <th></th>\n",
       "      <th></th>\n",
       "      <th></th>\n",
       "      <th></th>\n",
       "      <th></th>\n",
       "    </tr>\n",
       "  </thead>\n",
       "  <tbody>\n",
       "    <tr>\n",
       "      <th>LINK</th>\n",
       "      <td>NaN</td>\n",
       "      <td>0</td>\n",
       "      <td>NaN</td>\n",
       "      <td>LINESTRING(126.9657085816752 37.59262760480967...</td>\n",
       "      <td>150656</td>\n",
       "      <td>1000.0</td>\n",
       "      <td>128796.0</td>\n",
       "      <td>128797.0</td>\n",
       "      <td>13.925</td>\n",
       "      <td>1111000000</td>\n",
       "      <td>종로구</td>\n",
       "      <td>1111018400</td>\n",
       "      <td>부암동</td>\n",
       "    </tr>\n",
       "    <tr>\n",
       "      <th>LINK</th>\n",
       "      <td>NaN</td>\n",
       "      <td>0</td>\n",
       "      <td>NaN</td>\n",
       "      <td>LINESTRING(127.01248914183903 37.5700264102462...</td>\n",
       "      <td>15246</td>\n",
       "      <td>1011.0</td>\n",
       "      <td>195179.0</td>\n",
       "      <td>10365.0</td>\n",
       "      <td>14.260</td>\n",
       "      <td>1111000000</td>\n",
       "      <td>종로구</td>\n",
       "      <td>1111017400</td>\n",
       "      <td>창신동</td>\n",
       "    </tr>\n",
       "    <tr>\n",
       "      <th>LINK</th>\n",
       "      <td>NaN</td>\n",
       "      <td>0</td>\n",
       "      <td>NaN</td>\n",
       "      <td>LINESTRING(126.96929248902234 37.5754325586161...</td>\n",
       "      <td>192933</td>\n",
       "      <td>1000.0</td>\n",
       "      <td>129904.0</td>\n",
       "      <td>129905.0</td>\n",
       "      <td>22.748</td>\n",
       "      <td>1111000000</td>\n",
       "      <td>종로구</td>\n",
       "      <td>1111011300</td>\n",
       "      <td>필운동</td>\n",
       "    </tr>\n",
       "    <tr>\n",
       "      <th>LINK</th>\n",
       "      <td>NaN</td>\n",
       "      <td>0</td>\n",
       "      <td>NaN</td>\n",
       "      <td>LINESTRING(126.99458763438037 37.5687122643109...</td>\n",
       "      <td>13878</td>\n",
       "      <td>1011.0</td>\n",
       "      <td>93336.0</td>\n",
       "      <td>10351.0</td>\n",
       "      <td>55.531</td>\n",
       "      <td>1111000000</td>\n",
       "      <td>종로구</td>\n",
       "      <td>1111015400</td>\n",
       "      <td>장사동</td>\n",
       "    </tr>\n",
       "    <tr>\n",
       "      <th>LINK</th>\n",
       "      <td>NaN</td>\n",
       "      <td>0</td>\n",
       "      <td>NaN</td>\n",
       "      <td>LINESTRING(126.9774587328279 37.56933658735303...</td>\n",
       "      <td>73485</td>\n",
       "      <td>1011.0</td>\n",
       "      <td>10336.0</td>\n",
       "      <td>10337.0</td>\n",
       "      <td>24.904</td>\n",
       "      <td>1111000000</td>\n",
       "      <td>종로구</td>\n",
       "      <td>1114010300</td>\n",
       "      <td>태평로1가</td>\n",
       "    </tr>\n",
       "  </tbody>\n",
       "</table>\n",
       "</div>"
      ],
      "text/plain": [
       "        노드 WKT  노드 ID  노드 유형 코드  \\\n",
       "노드링크 유형                           \n",
       "LINK       NaN      0       NaN   \n",
       "LINK       NaN      0       NaN   \n",
       "LINK       NaN      0       NaN   \n",
       "LINK       NaN      0       NaN   \n",
       "LINK       NaN      0       NaN   \n",
       "\n",
       "                                                    링크 WKT   링크 ID  링크 유형 코드  \\\n",
       "노드링크 유형                                                                        \n",
       "LINK     LINESTRING(126.9657085816752 37.59262760480967...  150656    1000.0   \n",
       "LINK     LINESTRING(127.01248914183903 37.5700264102462...   15246    1011.0   \n",
       "LINK     LINESTRING(126.96929248902234 37.5754325586161...  192933    1000.0   \n",
       "LINK     LINESTRING(126.99458763438037 37.5687122643109...   13878    1011.0   \n",
       "LINK     LINESTRING(126.9774587328279 37.56933658735303...   73485    1011.0   \n",
       "\n",
       "          시작노드 ID   종료노드 ID   링크 길이       시군구코드 시군구명       읍면동코드   읍면동명  \n",
       "노드링크 유형                                                                  \n",
       "LINK     128796.0  128797.0  13.925  1111000000  종로구  1111018400    부암동  \n",
       "LINK     195179.0   10365.0  14.260  1111000000  종로구  1111017400    창신동  \n",
       "LINK     129904.0  129905.0  22.748  1111000000  종로구  1111011300    필운동  \n",
       "LINK      93336.0   10351.0  55.531  1111000000  종로구  1111015400    장사동  \n",
       "LINK      10336.0   10337.0  24.904  1111000000  종로구  1114010300  태평로1가  "
      ]
     },
     "execution_count": 2,
     "metadata": {},
     "output_type": "execute_result"
    }
   ],
   "source": [
    "import pandas as pd\n",
    "import numpy as np\n",
    "\n",
    "data = pandas.read_csv(\"../기존 입지 분석 이용 데이터/서울시 대로변 횡단보도 위치정보.csv\", index_col=0, encoding = 'cp949')\n",
    "data.head()"
   ]
  },
  {
   "cell_type": "code",
   "execution_count": 5,
   "id": "84b168a6",
   "metadata": {},
   "outputs": [
    {
     "data": {
      "text/html": [
       "<div>\n",
       "<style scoped>\n",
       "    .dataframe tbody tr th:only-of-type {\n",
       "        vertical-align: middle;\n",
       "    }\n",
       "\n",
       "    .dataframe tbody tr th {\n",
       "        vertical-align: top;\n",
       "    }\n",
       "\n",
       "    .dataframe thead th {\n",
       "        text-align: right;\n",
       "    }\n",
       "</style>\n",
       "<table border=\"1\" class=\"dataframe\">\n",
       "  <thead>\n",
       "    <tr style=\"text-align: right;\">\n",
       "      <th></th>\n",
       "      <th>노드 WKT</th>\n",
       "      <th>노드 ID</th>\n",
       "      <th>노드 유형 코드</th>\n",
       "      <th>링크 WKT</th>\n",
       "      <th>링크 ID</th>\n",
       "      <th>링크 유형 코드</th>\n",
       "      <th>시작노드 ID</th>\n",
       "      <th>종료노드 ID</th>\n",
       "      <th>링크 길이</th>\n",
       "      <th>시군구코드</th>\n",
       "      <th>시군구명</th>\n",
       "      <th>읍면동코드</th>\n",
       "      <th>읍면동명</th>\n",
       "    </tr>\n",
       "    <tr>\n",
       "      <th>노드링크 유형</th>\n",
       "      <th></th>\n",
       "      <th></th>\n",
       "      <th></th>\n",
       "      <th></th>\n",
       "      <th></th>\n",
       "      <th></th>\n",
       "      <th></th>\n",
       "      <th></th>\n",
       "      <th></th>\n",
       "      <th></th>\n",
       "      <th></th>\n",
       "      <th></th>\n",
       "      <th></th>\n",
       "    </tr>\n",
       "  </thead>\n",
       "  <tbody>\n",
       "    <tr>\n",
       "      <th>LINK</th>\n",
       "      <td>NaN</td>\n",
       "      <td>0</td>\n",
       "      <td>NaN</td>\n",
       "      <td>LINESTRING(127.04260922925265 37.5022828240760...</td>\n",
       "      <td>67599</td>\n",
       "      <td>1000.0</td>\n",
       "      <td>102143.0</td>\n",
       "      <td>102144.0</td>\n",
       "      <td>63.389</td>\n",
       "      <td>1168000000</td>\n",
       "      <td>강남구</td>\n",
       "      <td>1168010100</td>\n",
       "      <td>역삼동</td>\n",
       "    </tr>\n",
       "    <tr>\n",
       "      <th>NODE</th>\n",
       "      <td>POINT(127.05296109655878 37.48634860944576)</td>\n",
       "      <td>121586</td>\n",
       "      <td>0.0</td>\n",
       "      <td>NaN</td>\n",
       "      <td>0</td>\n",
       "      <td>NaN</td>\n",
       "      <td>NaN</td>\n",
       "      <td>NaN</td>\n",
       "      <td>NaN</td>\n",
       "      <td>1168000000</td>\n",
       "      <td>강남구</td>\n",
       "      <td>1168011800</td>\n",
       "      <td>도곡동</td>\n",
       "    </tr>\n",
       "    <tr>\n",
       "      <th>NODE</th>\n",
       "      <td>POINT(127.05266515854537 37.486167945441835)</td>\n",
       "      <td>121585</td>\n",
       "      <td>0.0</td>\n",
       "      <td>NaN</td>\n",
       "      <td>0</td>\n",
       "      <td>NaN</td>\n",
       "      <td>NaN</td>\n",
       "      <td>NaN</td>\n",
       "      <td>NaN</td>\n",
       "      <td>1168000000</td>\n",
       "      <td>강남구</td>\n",
       "      <td>1168011800</td>\n",
       "      <td>도곡동</td>\n",
       "    </tr>\n",
       "    <tr>\n",
       "      <th>NODE</th>\n",
       "      <td>POINT(127.05383024400355 37.48888165268211)</td>\n",
       "      <td>121584</td>\n",
       "      <td>0.0</td>\n",
       "      <td>NaN</td>\n",
       "      <td>0</td>\n",
       "      <td>NaN</td>\n",
       "      <td>NaN</td>\n",
       "      <td>NaN</td>\n",
       "      <td>NaN</td>\n",
       "      <td>1168000000</td>\n",
       "      <td>강남구</td>\n",
       "      <td>1168011800</td>\n",
       "      <td>도곡동</td>\n",
       "    </tr>\n",
       "    <tr>\n",
       "      <th>NODE</th>\n",
       "      <td>POINT(127.0607333539185 37.51410956560504)</td>\n",
       "      <td>204963</td>\n",
       "      <td>0.0</td>\n",
       "      <td>NaN</td>\n",
       "      <td>0</td>\n",
       "      <td>NaN</td>\n",
       "      <td>NaN</td>\n",
       "      <td>NaN</td>\n",
       "      <td>NaN</td>\n",
       "      <td>1168000000</td>\n",
       "      <td>강남구</td>\n",
       "      <td>1168010500</td>\n",
       "      <td>삼성동</td>\n",
       "    </tr>\n",
       "  </tbody>\n",
       "</table>\n",
       "</div>"
      ],
      "text/plain": [
       "                                               노드 WKT   노드 ID  노드 유형 코드  \\\n",
       "노드링크 유형                                                                   \n",
       "LINK                                              NaN       0       NaN   \n",
       "NODE      POINT(127.05296109655878 37.48634860944576)  121586       0.0   \n",
       "NODE     POINT(127.05266515854537 37.486167945441835)  121585       0.0   \n",
       "NODE      POINT(127.05383024400355 37.48888165268211)  121584       0.0   \n",
       "NODE       POINT(127.0607333539185 37.51410956560504)  204963       0.0   \n",
       "\n",
       "                                                    링크 WKT  링크 ID  링크 유형 코드  \\\n",
       "노드링크 유형                                                                       \n",
       "LINK     LINESTRING(127.04260922925265 37.5022828240760...  67599    1000.0   \n",
       "NODE                                                   NaN      0       NaN   \n",
       "NODE                                                   NaN      0       NaN   \n",
       "NODE                                                   NaN      0       NaN   \n",
       "NODE                                                   NaN      0       NaN   \n",
       "\n",
       "          시작노드 ID   종료노드 ID   링크 길이       시군구코드 시군구명       읍면동코드 읍면동명  \n",
       "노드링크 유형                                                                \n",
       "LINK     102143.0  102144.0  63.389  1168000000  강남구  1168010100  역삼동  \n",
       "NODE          NaN       NaN     NaN  1168000000  강남구  1168011800  도곡동  \n",
       "NODE          NaN       NaN     NaN  1168000000  강남구  1168011800  도곡동  \n",
       "NODE          NaN       NaN     NaN  1168000000  강남구  1168011800  도곡동  \n",
       "NODE          NaN       NaN     NaN  1168000000  강남구  1168010500  삼성동  "
      ]
     },
     "execution_count": 5,
     "metadata": {},
     "output_type": "execute_result"
    }
   ],
   "source": [
    "data = data[data['시군구명']=='강남구']\n",
    "data.head()"
   ]
  },
  {
   "cell_type": "code",
   "execution_count": 8,
   "id": "ed32cbc5",
   "metadata": {},
   "outputs": [
    {
     "data": {
      "text/html": [
       "<div>\n",
       "<style scoped>\n",
       "    .dataframe tbody tr th:only-of-type {\n",
       "        vertical-align: middle;\n",
       "    }\n",
       "\n",
       "    .dataframe tbody tr th {\n",
       "        vertical-align: top;\n",
       "    }\n",
       "\n",
       "    .dataframe thead th {\n",
       "        text-align: right;\n",
       "    }\n",
       "</style>\n",
       "<table border=\"1\" class=\"dataframe\">\n",
       "  <thead>\n",
       "    <tr style=\"text-align: right;\">\n",
       "      <th></th>\n",
       "    </tr>\n",
       "  </thead>\n",
       "  <tbody>\n",
       "  </tbody>\n",
       "</table>\n",
       "</div>"
      ],
      "text/plain": [
       "Empty DataFrame\n",
       "Columns: []\n",
       "Index: []"
      ]
     },
     "execution_count": 8,
     "metadata": {},
     "output_type": "execute_result"
    }
   ],
   "source": [
    "import pandas as pd\n",
    "gn_crosswalk = pd.DataFrame()\n",
    "gn_crosswalk"
   ]
  },
  {
   "cell_type": "code",
   "execution_count": 26,
   "id": "8a583d3a",
   "metadata": {},
   "outputs": [
    {
     "data": {
      "text/plain": [
       "'LINESTRING(127.04260922925265 37.502282824076026,127.04236823785438 37.502820721040784)'"
      ]
     },
     "execution_count": 26,
     "metadata": {},
     "output_type": "execute_result"
    }
   ],
   "source": [
    "location = data.iloc[0, 3]\n",
    "location"
   ]
  },
  {
   "cell_type": "code",
   "execution_count": 27,
   "id": "6a34fde2",
   "metadata": {},
   "outputs": [],
   "source": [
    "start = location.find('(')\n",
    "blank = location.find(' ', 2)\n",
    "end = location.find(')')"
   ]
  },
  {
   "cell_type": "code",
   "execution_count": 28,
   "id": "773a73f3",
   "metadata": {},
   "outputs": [
    {
     "data": {
      "text/plain": [
       "29"
      ]
     },
     "execution_count": 28,
     "metadata": {},
     "output_type": "execute_result"
    }
   ],
   "source": [
    "blank"
   ]
  },
  {
   "cell_type": "code",
   "execution_count": 29,
   "id": "b74b7fbb",
   "metadata": {},
   "outputs": [
    {
     "data": {
      "text/plain": [
       "'127.04260922925265'"
      ]
     },
     "execution_count": 29,
     "metadata": {},
     "output_type": "execute_result"
    }
   ],
   "source": [
    "location[start+1:blank]"
   ]
  },
  {
   "cell_type": "code",
   "execution_count": 30,
   "id": "a753c23d",
   "metadata": {},
   "outputs": [
    {
     "data": {
      "text/plain": [
       "'127.04260922925265'"
      ]
     },
     "execution_count": 30,
     "metadata": {},
     "output_type": "execute_result"
    }
   ],
   "source": [
    "# 위도 = latitude = 37~\n",
    "latitude = location[location.find('(')+1:location.find(' ')]\n",
    "latitude"
   ]
  },
  {
   "cell_type": "code",
   "execution_count": 31,
   "id": "b83a63d0",
   "metadata": {},
   "outputs": [
    {
     "data": {
      "text/plain": [
       "'37.502282824076026,127.04236823785438 37.502820721040784'"
      ]
     },
     "execution_count": 31,
     "metadata": {},
     "output_type": "execute_result"
    }
   ],
   "source": [
    "longtitude = location[location.find(' ')+1: location.find(')')]\n",
    "longtitude"
   ]
  },
  {
   "cell_type": "code",
   "execution_count": null,
   "id": "4603b949",
   "metadata": {},
   "outputs": [],
   "source": [
    "for i in range(len(data)):\n",
    "    if data.loc[i, '로드링크 유형'] == 'NODE':\n",
    "        location = data.iloc[i, 0]\n",
    "        gn_crosswalk.loc[i, '위도'] = location[location.find('(')+1:location.find(' ')]\n",
    "        gn_corsswalk.loc[i, '경도'] = location[location.find(' ')+1: location.find(')')]\n",
    "    else:\n",
    "        location = data.iloc[i, ]\n",
    "        gn_corsswalk.loc[i, '위도'] = \n",
    "        gn_corsswalk.loc[i, '경도'] = "
   ]
  }
 ],
 "metadata": {
  "kernelspec": {
   "display_name": "Python 3 (ipykernel)",
   "language": "python",
   "name": "python3"
  },
  "language_info": {
   "codemirror_mode": {
    "name": "ipython",
    "version": 3
   },
   "file_extension": ".py",
   "mimetype": "text/x-python",
   "name": "python",
   "nbconvert_exporter": "python",
   "pygments_lexer": "ipython3",
   "version": "3.10.8"
  }
 },
 "nbformat": 4,
 "nbformat_minor": 5
}
