{
 "cells": [
  {
   "cell_type": "markdown",
   "metadata": {
    "id": "7_8BHEGMidDP"
   },
   "source": [
    "**pip 및 import**\n",
    "\n",
    "⬇️⬇️⬇️⬇️⬇️⬇️⬇️⬇️⬇️⬇️⬇️⬇️⬇️⬇️⬇️⬇️⬇️⬇️⬇️⬇️⬇️⬇️⬇️"
   ]
  },
  {
   "cell_type": "code",
   "execution_count": 1,
   "metadata": {
    "colab": {
     "base_uri": "https://localhost:8080/"
    },
    "id": "bz_mi-oI7xnP",
    "outputId": "2bfbf0e8-aec7-4a94-f25c-7dec182c312e"
   },
   "outputs": [
    {
     "name": "stdout",
     "output_type": "stream",
     "text": [
      "Collecting gurobipy\n",
      "  Downloading gurobipy-10.0.1-cp310-cp310-macosx_10_9_universal2.whl (10.1 MB)\n",
      "\u001b[2K     \u001b[90m━━━━━━━━━━━━━━━━━━━━━━━━━━━━━━━━━━━━━━━━\u001b[0m \u001b[32m10.1/10.1 MB\u001b[0m \u001b[31m7.2 MB/s\u001b[0m eta \u001b[36m0:00:00\u001b[0m00:01\u001b[0m0:01\u001b[0m\n",
      "\u001b[?25hInstalling collected packages: gurobipy\n",
      "Successfully installed gurobipy-10.0.1\n"
     ]
    }
   ],
   "source": [
    "!pip install gurobipy"
   ]
  },
  {
   "cell_type": "code",
   "execution_count": 3,
   "metadata": {},
   "outputs": [
    {
     "name": "stdout",
     "output_type": "stream",
     "text": [
      "Collecting shapely\n",
      "  Downloading shapely-2.0.1-cp310-cp310-macosx_11_0_arm64.whl (1.2 MB)\n",
      "\u001b[2K     \u001b[90m━━━━━━━━━━━━━━━━━━━━━━━━━━━━━━━━━━━━━━━━\u001b[0m \u001b[32m1.2/1.2 MB\u001b[0m \u001b[31m7.4 MB/s\u001b[0m eta \u001b[36m0:00:00\u001b[0m00:01\u001b[0m00:01\u001b[0m\n",
      "\u001b[?25hRequirement already satisfied: numpy>=1.14 in /Library/Frameworks/Python.framework/Versions/3.10/lib/python3.10/site-packages (from shapely) (1.24.2)\n",
      "Installing collected packages: shapely\n",
      "Successfully installed shapely-2.0.1\n"
     ]
    }
   ],
   "source": [
    "!pip install shapely"
   ]
  },
  {
   "cell_type": "code",
   "execution_count": 4,
   "metadata": {
    "id": "CE7UixfLlrk5"
   },
   "outputs": [],
   "source": [
    "import pandas\n",
    "# from google.colab import files\n",
    "\n",
    "import numpy as np\n",
    "from scipy.spatial import distance_matrix\n",
    "from gurobipy import *\n",
    "from scipy.spatial import ConvexHull\n",
    "from shapely.geometry import Polygon, Point\n",
    "from numpy import random"
   ]
  },
  {
   "cell_type": "markdown",
   "metadata": {
    "id": "jKMkCDB9iEOx"
   },
   "source": [
    "학원 데이터\n",
    "\n",
    "⬇️⬇️⬇️⬇️⬇️⬇️⬇️⬇️⬇️⬇️⬇️⬇️⬇️⬇️⬇️⬇️⬇️⬇️⬇️⬇️⬇️⬇️⬇️"
   ]
  },
  {
   "cell_type": "code",
   "execution_count": 37,
   "metadata": {
    "id": "mC4nb39z8ac_"
   },
   "outputs": [
    {
     "data": {
      "text/html": [
       "<div>\n",
       "<style scoped>\n",
       "    .dataframe tbody tr th:only-of-type {\n",
       "        vertical-align: middle;\n",
       "    }\n",
       "\n",
       "    .dataframe tbody tr th {\n",
       "        vertical-align: top;\n",
       "    }\n",
       "\n",
       "    .dataframe thead th {\n",
       "        text-align: right;\n",
       "    }\n",
       "</style>\n",
       "<table border=\"1\" class=\"dataframe\">\n",
       "  <thead>\n",
       "    <tr style=\"text-align: right;\">\n",
       "      <th></th>\n",
       "      <th>학원/교습소</th>\n",
       "      <th>교습과정명</th>\n",
       "      <th>학원명</th>\n",
       "      <th>주소</th>\n",
       "      <th>위도</th>\n",
       "      <th>경도</th>\n",
       "      <th>인원</th>\n",
       "    </tr>\n",
       "  </thead>\n",
       "  <tbody>\n",
       "    <tr>\n",
       "      <th>0</th>\n",
       "      <td>학원</td>\n",
       "      <td>보습</td>\n",
       "      <td>생명을살리는수학창의교육보습학원</td>\n",
       "      <td>서울특별시 광진구 구의강변로 106</td>\n",
       "      <td>37.535520</td>\n",
       "      <td>127.092110</td>\n",
       "      <td>24.0</td>\n",
       "    </tr>\n",
       "    <tr>\n",
       "      <th>1</th>\n",
       "      <td>학원</td>\n",
       "      <td>음악</td>\n",
       "      <td>시엘음악학원</td>\n",
       "      <td>서울특별시 광진구 용마산로21길 27</td>\n",
       "      <td>37.562051</td>\n",
       "      <td>127.085027</td>\n",
       "      <td>40.0</td>\n",
       "    </tr>\n",
       "    <tr>\n",
       "      <th>2</th>\n",
       "      <td>학원</td>\n",
       "      <td>보습</td>\n",
       "      <td>성신에듀학원</td>\n",
       "      <td>서울특별시 광진구 자양로22길 24</td>\n",
       "      <td>37.539591</td>\n",
       "      <td>127.084841</td>\n",
       "      <td>53.0</td>\n",
       "    </tr>\n",
       "    <tr>\n",
       "      <th>3</th>\n",
       "      <td>학원</td>\n",
       "      <td>보습</td>\n",
       "      <td>청람보습학원</td>\n",
       "      <td>서울특별시 광진구 용마산로 100</td>\n",
       "      <td>37.567870</td>\n",
       "      <td>127.086185</td>\n",
       "      <td>90.0</td>\n",
       "    </tr>\n",
       "    <tr>\n",
       "      <th>4</th>\n",
       "      <td>학원</td>\n",
       "      <td>보습</td>\n",
       "      <td>상명보습학원</td>\n",
       "      <td>서울특별시 광진구 자양로 181-1</td>\n",
       "      <td>37.544674</td>\n",
       "      <td>127.085019</td>\n",
       "      <td>59.0</td>\n",
       "    </tr>\n",
       "  </tbody>\n",
       "</table>\n",
       "</div>"
      ],
      "text/plain": [
       "  학원/교습소 교습과정명               학원명                    주소         위도          경도  \\\n",
       "0     학원    보습  생명을살리는수학창의교육보습학원   서울특별시 광진구 구의강변로 106  37.535520  127.092110   \n",
       "1     학원    음악            시엘음악학원  서울특별시 광진구 용마산로21길 27  37.562051  127.085027   \n",
       "2     학원    보습            성신에듀학원   서울특별시 광진구 자양로22길 24  37.539591  127.084841   \n",
       "3     학원    보습            청람보습학원    서울특별시 광진구 용마산로 100  37.567870  127.086185   \n",
       "4     학원    보습            상명보습학원   서울특별시 광진구 자양로 181-1  37.544674  127.085019   \n",
       "\n",
       "     인원  \n",
       "0  24.0  \n",
       "1  40.0  \n",
       "2  53.0  \n",
       "3  90.0  \n",
       "4  59.0  "
      ]
     },
     "execution_count": 37,
     "metadata": {},
     "output_type": "execute_result"
    }
   ],
   "source": [
    "data = pandas.read_csv(\"../data/학원좌표인원.csv\", index_col=0)\n",
    "data.head()"
   ]
  },
  {
   "cell_type": "code",
   "execution_count": 38,
   "metadata": {},
   "outputs": [
    {
     "data": {
      "text/html": [
       "<div>\n",
       "<style scoped>\n",
       "    .dataframe tbody tr th:only-of-type {\n",
       "        vertical-align: middle;\n",
       "    }\n",
       "\n",
       "    .dataframe tbody tr th {\n",
       "        vertical-align: top;\n",
       "    }\n",
       "\n",
       "    .dataframe thead th {\n",
       "        text-align: right;\n",
       "    }\n",
       "</style>\n",
       "<table border=\"1\" class=\"dataframe\">\n",
       "  <thead>\n",
       "    <tr style=\"text-align: right;\">\n",
       "      <th></th>\n",
       "      <th>위도</th>\n",
       "      <th>경도</th>\n",
       "      <th>인원</th>\n",
       "    </tr>\n",
       "  </thead>\n",
       "  <tbody>\n",
       "    <tr>\n",
       "      <th>count</th>\n",
       "      <td>782.000000</td>\n",
       "      <td>782.000000</td>\n",
       "      <td>780.000000</td>\n",
       "    </tr>\n",
       "    <tr>\n",
       "      <th>mean</th>\n",
       "      <td>37.542324</td>\n",
       "      <td>127.086486</td>\n",
       "      <td>45.882051</td>\n",
       "    </tr>\n",
       "    <tr>\n",
       "      <th>std</th>\n",
       "      <td>0.010457</td>\n",
       "      <td>0.009142</td>\n",
       "      <td>51.679087</td>\n",
       "    </tr>\n",
       "    <tr>\n",
       "      <th>min</th>\n",
       "      <td>37.527822</td>\n",
       "      <td>127.062410</td>\n",
       "      <td>0.000000</td>\n",
       "    </tr>\n",
       "    <tr>\n",
       "      <th>25%</th>\n",
       "      <td>37.534754</td>\n",
       "      <td>127.081352</td>\n",
       "      <td>6.000000</td>\n",
       "    </tr>\n",
       "    <tr>\n",
       "      <th>50%</th>\n",
       "      <td>37.539280</td>\n",
       "      <td>127.088359</td>\n",
       "      <td>34.500000</td>\n",
       "    </tr>\n",
       "    <tr>\n",
       "      <th>75%</th>\n",
       "      <td>37.546830</td>\n",
       "      <td>127.092110</td>\n",
       "      <td>71.000000</td>\n",
       "    </tr>\n",
       "    <tr>\n",
       "      <th>max</th>\n",
       "      <td>37.567870</td>\n",
       "      <td>127.111145</td>\n",
       "      <td>668.000000</td>\n",
       "    </tr>\n",
       "  </tbody>\n",
       "</table>\n",
       "</div>"
      ],
      "text/plain": [
       "               위도          경도          인원\n",
       "count  782.000000  782.000000  780.000000\n",
       "mean    37.542324  127.086486   45.882051\n",
       "std      0.010457    0.009142   51.679087\n",
       "min     37.527822  127.062410    0.000000\n",
       "25%     37.534754  127.081352    6.000000\n",
       "50%     37.539280  127.088359   34.500000\n",
       "75%     37.546830  127.092110   71.000000\n",
       "max     37.567870  127.111145  668.000000"
      ]
     },
     "execution_count": 38,
     "metadata": {},
     "output_type": "execute_result"
    }
   ],
   "source": [
    "data.describe()"
   ]
  },
  {
   "cell_type": "code",
   "execution_count": 39,
   "metadata": {
    "colab": {
     "base_uri": "https://localhost:8080/",
     "height": 235
    },
    "id": "yV_nxuN0IV_m",
    "outputId": "ea90da4c-ae43-48e1-c53e-db21dc625c24"
   },
   "outputs": [],
   "source": [
    "points = np.array([list(i) for i in zip(data['경도'], data['위도'])])"
   ]
  },
  {
   "cell_type": "code",
   "execution_count": 40,
   "metadata": {},
   "outputs": [
    {
     "data": {
      "text/plain": [
       "array([[127.09211  ,  37.53552  ],\n",
       "       [127.0850268,  37.5620507],\n",
       "       [127.0848414,  37.5395909],\n",
       "       ...,\n",
       "       [127.0919729,  37.538847 ],\n",
       "       [127.0678273,  37.544978 ],\n",
       "       [127.0995989,  37.5525116]])"
      ]
     },
     "execution_count": 40,
     "metadata": {},
     "output_type": "execute_result"
    }
   ],
   "source": [
    "points"
   ]
  },
  {
   "cell_type": "markdown",
   "metadata": {},
   "source": [
    "## 학원 - 본인 위치 기준으로 : 근처 500m 이내(도보 8분) 학원 수, 학원 정원 합, 휴게음식점 수, 교통사고 건수, 횡단보도 개수 (top 이 후보) -> mlcp"
   ]
  },
  {
   "cell_type": "code",
   "execution_count": 48,
   "metadata": {},
   "outputs": [],
   "source": [
    "# longtitude 경도 latitude 위도"
   ]
  },
  {
   "cell_type": "code",
   "execution_count": 27,
   "metadata": {},
   "outputs": [
    {
     "name": "stdout",
     "output_type": "stream",
     "text": [
      "Requirement already satisfied: haversine in /Library/Frameworks/Python.framework/Versions/3.10/lib/python3.10/site-packages (2.8.0)\r\n"
     ]
    }
   ],
   "source": [
    "!pip install haversine"
   ]
  },
  {
   "cell_type": "code",
   "execution_count": 31,
   "metadata": {},
   "outputs": [],
   "source": [
    "from haversine import haversine"
   ]
  },
  {
   "cell_type": "code",
   "execution_count": 32,
   "metadata": {},
   "outputs": [
    {
     "data": {
      "text/plain": [
       "833.6603247358311"
      ]
     },
     "execution_count": 32,
     "metadata": {},
     "output_type": "execute_result"
    }
   ],
   "source": [
    "<<예시 모아둔 BLOCK>>\n",
    "\n",
    "# haversine 사용법 usage example   \n",
    "kyobo = (37.504030, 127.024099) # 교보 문고 위도/경도\n",
    "gangnam = (37.497175,127.027926) # 강남역 위도/경도\n",
    "haversine(kyobo, gangnam) * 1000 # km to m\n",
    "\n",
    "# tuple usage example\n",
    "location1 = tuple([data.loc[0, '위도'], data.loc[0, '경도']])\n",
    "location1\n",
    "\n",
    "# 열 삭제\n",
    "data.drop(labels = '학원수', axis = 1)"
   ]
  },
  {
   "cell_type": "code",
   "execution_count": 55,
   "metadata": {},
   "outputs": [],
   "source": [
    "for i in range(len(data)) :\n",
    "    cnt = 0\n",
    "    location1 = tuple([data.loc[i, '위도'], data.loc[i, '경도']])\n",
    "    for j in range(len(data)):\n",
    "        location2 = tuple([data.loc[j, '위도'], data.loc[j, '경도']])\n",
    "        if haversine(location1, location2)*1000<=500 :\n",
    "            cnt += 1\n",
    "    data.loc[i, '근처학원수'] = cnt"
   ]
  },
  {
   "cell_type": "markdown",
   "metadata": {
    "id": "DrZif595iBCW"
   },
   "source": [
    "**MCLP 사용**\n",
    "\n",
    "⬇️⬇️⬇️⬇️⬇️⬇️⬇️⬇️⬇️⬇️⬇️⬇️⬇️⬇️⬇️⬇️⬇️⬇️⬇️"
   ]
  },
  {
   "cell_type": "code",
   "execution_count": 17,
   "metadata": {
    "id": "e3RadbpX5vEy"
   },
   "outputs": [],
   "source": [
    "def generate_candidate_sites(points,M=100):\n",
    "    '''\n",
    "    Generate M candidate sites with the convex hull of a point set\n",
    "    Input:\n",
    "        points: a Numpy array with shape of (N,2)\n",
    "        M: the number of candidate sites to generate\n",
    "    Return:\n",
    "        sites: a Numpy array with shape of (M,2)\n",
    "    '''\n",
    "    hull = ConvexHull(points)\n",
    "    polygon_points = points[hull.vertices]\n",
    "    poly = Polygon(polygon_points)\n",
    "    min_x, min_y, max_x, max_y = poly.bounds\n",
    "    sites = []\n",
    "    while len(sites) < M:\n",
    "        random_point = Point([random.uniform(min_x, max_x),\n",
    "                             random.uniform(min_y, max_y)])\n",
    "        if (random_point.within(poly)):\n",
    "            sites.append(random_point)\n",
    "    return np.array([(p.x,p.y) for p in sites])\n",
    "\n",
    "def mclp(points,K,radius,M):\n",
    "    \"\"\"\n",
    "    Solve maximum covering location problem\n",
    "    Input:\n",
    "        points: input points, Numpy array in shape of [N,2]\n",
    "        K: the number of sites to select\n",
    "        radius: the radius of circle\n",
    "        M: the number of candidate sites, which will randomly generated inside\n",
    "        the ConvexHull wrapped by the polygon\n",
    "    Return:\n",
    "        opt_sites: locations K optimal sites, Numpy array in shape of [K,2]\n",
    "        f: the optimal value of the objective function\n",
    "    \"\"\"\n",
    "    print('----- Configurations -----')\n",
    "    print('  Number of points %g' % points.shape[0])\n",
    "    print('  K %g' % K)\n",
    "    print('  Radius %g' % radius)\n",
    "    print('  M %g' % M)\n",
    "    import time\n",
    "    start = time.time()\n",
    "    sites = generate_candidate_sites(points,M)\n",
    "    J = sites.shape[0]\n",
    "    I = points.shape[0]\n",
    "    D = distance_matrix(points,sites)\n",
    "    mask1 = D<=radius\n",
    "    D[mask1]=1\n",
    "    D[~mask1]=0\n",
    "    # Build model\n",
    "    m = Model()\n",
    "    # Add variables\n",
    "    x = {}\n",
    "    y = {}\n",
    "    for i in range(I):\n",
    "      y[i] = m.addVar(vtype=GRB.BINARY, name=\"y%d\" % i)\n",
    "    for j in range(J):\n",
    "      x[j] = m.addVar(vtype=GRB.BINARY, name=\"x%d\" % j)\n",
    "\n",
    "    m.update()\n",
    "    # Add constraints\n",
    "    m.addConstr(quicksum(x[j] for j in range(J)) == K)\n",
    "\n",
    "    for i in range(I):\n",
    "        m.addConstr(quicksum(x[j] for j in np.where(D[i]==1)[0]) >= y[i])\n",
    "\n",
    "    m.setObjective(quicksum(y[i]for i in range(I)),GRB.MAXIMIZE)\n",
    "    m.setParam('OutputFlag', 0)\n",
    "    m.optimize()\n",
    "    end = time.time()\n",
    "    print('----- Output -----')\n",
    "    print('  Running time : %s seconds' % float(end-start))\n",
    "    print('  Optimal coverage points: %g' % m.objVal)\n",
    "    \n",
    "    solution = []\n",
    "    if m.status == GRB.Status.OPTIMAL:\n",
    "        for v in m.getVars():\n",
    "            # print v.varName,v.x\n",
    "            if v.x==1 and v.varName[0]==\"x\":\n",
    "               solution.append(int(v.varName[1:]))\n",
    "    opt_sites = sites[solution]\n",
    "    return opt_sites,m.objVal\n",
    "\n",
    "def plot_input(points):\n",
    "    '''\n",
    "    Plot the result\n",
    "    Input:\n",
    "        points: input points, Numpy array in shape of [N,2]\n",
    "        opt_sites: locations K optimal sites, Numpy array in shape of [K,2]\n",
    "        radius: the radius of circle\n",
    "    '''\n",
    "    from matplotlib import pyplot as plt\n",
    "    fig = plt.figure(figsize=(8,8))\n",
    "    plt.scatter(points[:,0],points[:,1],c='C0')\n",
    "    ax = plt.gca()\n",
    "    ax.axis('equal')\n",
    "    ax.tick_params(axis='both',left=False, top=False, right=False,\n",
    "                       bottom=False, labelleft=False, labeltop=False,\n",
    "                       labelright=False, labelbottom=False)\n",
    "\n",
    "def plot_result(points,opt_sites,radius):\n",
    "    '''\n",
    "    Plot the result\n",
    "    Input:\n",
    "        points: input points, Numpy array in shape of [N,2]\n",
    "        opt_sites: locations K optimal sites, Numpy array in shape of [K,2]\n",
    "        radius: the radius of circle\n",
    "    '''\n",
    "    from matplotlib import pyplot as plt\n",
    "    fig = plt.figure(figsize=(8,8))\n",
    "    plt.scatter(points[:,0],points[:,1],c='C0')\n",
    "    ax = plt.gca()\n",
    "    plt.scatter(opt_sites[:,0],opt_sites[:,1],c='C1',marker='+')\n",
    "    for site in opt_sites:\n",
    "        circle = plt.Circle(site, radius, color='C1',fill=False,lw=2)\n",
    "        ax.add_artist(circle)\n",
    "    ax.axis('equal')\n",
    "    ax.tick_params(axis='both',left=False, top=False, right=False,\n",
    "                       bottom=False, labelleft=False, labeltop=False,\n",
    "                       labelright=False, labelbottom=False)"
   ]
  },
  {
   "cell_type": "code",
   "execution_count": 18,
   "metadata": {
    "colab": {
     "base_uri": "https://localhost:8080/",
     "height": 235
    },
    "id": "mWVSXo-T-jO0",
    "outputId": "5d9b77e4-e753-43ef-85c3-29fb1dc012e9"
   },
   "outputs": [
    {
     "name": "stdout",
     "output_type": "stream",
     "text": [
      "----- Configurations -----\n",
      "  Number of points 782\n",
      "  K 10\n",
      "  Radius 0.2\n",
      "  M 100\n",
      "Restricted license - for non-production use only - expires 2024-10-28\n",
      "----- Output -----\n",
      "  Running time : 0.05853104591369629 seconds\n",
      "  Optimal coverage points: 782\n"
     ]
    },
    {
     "data": {
      "image/png": "[encoded data removed]",
      "text/plain": [
       "<Figure size 800x800 with 1 Axes>"
      ]
     },
     "metadata": {},
     "output_type": "display_data"
    },
    {
     "data": {
      "image/png": "[encoded data removed]",
      "text/plain": [
       "<Figure size 800x800 with 1 Axes>"
      ]
     },
     "metadata": {},
     "output_type": "display_data"
    }
   ],
   "source": [
    "# Plot input data\n",
    "plot_input(points)\n",
    "\n",
    "# Number of sites to select\n",
    "K = 10\n",
    "\n",
    "# Service radius of each site\n",
    "radius = 0.2\n",
    "\n",
    "# Candidate site size (random sites generated)\n",
    "M = 100\n",
    "\n",
    "# Run mclp opt_sites is the location of optimal sites and f is the points covered\n",
    "opt_sites,f = mclp(points,K,radius,M)\n",
    "\n",
    "# Plot the result\n",
    "plot_result(points,opt_sites,radius)"
   ]
  }
 ],
 "metadata": {
  "colab": {
   "provenance": []
  },
  "kernelspec": {
   "display_name": "Python 3 (ipykernel)",
   "language": "python",
   "name": "python3"
  },
  "language_info": {
   "codemirror_mode": {
    "name": "ipython",
    "version": 3
   },
   "file_extension": ".py",
   "mimetype": "text/x-python",
   "name": "python",
   "nbconvert_exporter": "python",
   "pygments_lexer": "ipython3",
   "version": "3.10.8"
  }
 },
 "nbformat": 4,
 "nbformat_minor": 1
}
